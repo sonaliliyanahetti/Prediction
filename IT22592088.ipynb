{
  "nbformat": 4,
  "nbformat_minor": 0,
  "metadata": {
    "colab": {
      "provenance": [],
      "include_colab_link": true
    },
    "kernelspec": {
      "name": "python3",
      "display_name": "Python 3"
    },
    "language_info": {
      "name": "python"
    }
  },
  "cells": [
    {
      "cell_type": "markdown",
      "metadata": {
        "id": "view-in-github",
        "colab_type": "text"
      },
      "source": [
        "<a href=\"https://colab.research.google.com/github/sonaliliyanahetti/Prediction/blob/main/IT22592088.ipynb\" target=\"_parent\"><img src=\"https://colab.research.google.com/assets/colab-badge.svg\" alt=\"Open In Colab\"/></a>"
      ]
    },
    {
      "cell_type": "markdown",
      "source": [
        "**Task 2 - Implementing LSTM for Time-Series Forecasting**\n",
        "\n",
        "\n",
        "***Read the following descriptions and instructions***\n",
        "\n",
        "Time-series forecasting is a crucial task in various fields, including finance, economics, and weather prediction. In this question, you'll work with Long Short-Term Memory (LSTM) networks, a type of recurrent neural network (RNN) that is particularly effective at learning from sequences of data. LSTMs are designed to capture long-term dependencies in time-series data, making them well-suited for predicting future values based on historical patterns.\n",
        "\n",
        "In this task, you will implement an LSTM model to forecast stock prices using historical data. Specifically, you'll use the closing prices of a stock to predict future prices, which is a common real-world application of time-series analysis in financial markets. This exercise will help you understand the principles of sequence modeling and how LSTMs can be applied to complex prediction tasks."
      ],
      "metadata": {
        "id": "MyWFUEnRajzf"
      }
    },
    {
      "cell_type": "code",
      "source": [
        "from google.colab import drive\n",
        "drive.mount('/content/drive')"
      ],
      "metadata": {
        "colab": {
          "base_uri": "https://localhost:8080/"
        },
        "id": "luIqiQXKEaU_",
        "outputId": "ad5e14e3-a60c-4bcd-e393-f599c6afd7ba"
      },
      "execution_count": 7,
      "outputs": [
        {
          "output_type": "stream",
          "name": "stdout",
          "text": [
            "Drive already mounted at /content/drive; to attempt to forcibly remount, call drive.mount(\"/content/drive\", force_remount=True).\n"
          ]
        }
      ]
    },
    {
      "cell_type": "code",
      "execution_count": 8,
      "metadata": {
        "id": "vKdTBHBbadlb"
      },
      "outputs": [],
      "source": [
        "import numpy as np\n",
        "import pandas as pd\n",
        "import tensorflow as tf\n",
        "from tensorflow.keras.models import Sequential\n",
        "from tensorflow.keras.layers import LSTM, Dense, Dropout\n",
        "from sklearn.preprocessing import MinMaxScaler\n",
        "import matplotlib.pyplot as plt"
      ]
    },
    {
      "cell_type": "code",
      "source": [
        "# 1. Load and Preprocess the Data\n",
        "def load_data(file_path):\n",
        "    df = pd.read_csv(file_path)\n",
        "    return df['Close'].values  # Use the 'Close' price for prediction"
      ],
      "metadata": {
        "id": "O9Y2p8k0aq4d"
      },
      "execution_count": 9,
      "outputs": []
    },
    {
      "cell_type": "code",
      "source": [
        "# 2. Prepare the Dataset for LSTM\n",
        "def create_dataset(data, time_step=60):\n",
        "    X, y = [], []\n",
        "    for i in range(len(data) - time_step):\n",
        "        X.append(data[i:(i + time_step)])\n",
        "        y.append(data[i + time_step])\n",
        "    return np.array(X), np.array(y)"
      ],
      "metadata": {
        "id": "224EeqW6auK7"
      },
      "execution_count": 10,
      "outputs": []
    },
    {
      "cell_type": "code",
      "source": [
        "# Load Data\n",
        "file_path = '/content/drive/MyDrive/DL/Lab 5/Lab 5/GOOG.csv'  # Path to the dataset in Colab or Jupyter home directory\n",
        "data = load_data(file_path)"
      ],
      "metadata": {
        "id": "KaH4F3mvazKH"
      },
      "execution_count": 12,
      "outputs": []
    },
    {
      "cell_type": "code",
      "source": [
        "# Normalize the Data\n",
        "scaler = MinMaxScaler(feature_range=(0, 1))\n",
        "data = scaler.fit_transform(data.reshape(-1, 1)).reshape(-1)"
      ],
      "metadata": {
        "id": "3SdZRCc0a51M"
      },
      "execution_count": 13,
      "outputs": []
    },
    {
      "cell_type": "markdown",
      "source": [
        "**time_step = 60:** This variable defines the length of the input sequence, meaning we will use the past 60 days of stock prices to predict the next day's closing price. This value is chosen to capture enough historical information to make an accurate prediction. You can change and try"
      ],
      "metadata": {
        "id": "7Khqb1qD5IsY"
      }
    },
    {
      "cell_type": "code",
      "source": [
        "\n",
        "# Create the Dataset\n",
        "time_step = 60  # Using 60 days of data to predict the next day's price\n",
        "X, y = create_dataset(data, time_step)"
      ],
      "metadata": {
        "id": "QmXBUdova9GP"
      },
      "execution_count": 14,
      "outputs": []
    },
    {
      "cell_type": "code",
      "source": [
        "# Reshape for LSTM input [samples, time steps, features]\n",
        "X = X.reshape(X.shape[0], X.shape[1], 1)"
      ],
      "metadata": {
        "id": "QMA5jpNnbA9a"
      },
      "execution_count": 15,
      "outputs": []
    },
    {
      "cell_type": "code",
      "source": [
        "# Split the Data into Training and Testing Sets (80% train, 20% test)\n",
        "train_size = int(len(X) * 0.8)\n",
        "X_train, X_test = X[:train_size], X[train_size:]\n",
        "y_train, y_test = y[:train_size], y[train_size:]"
      ],
      "metadata": {
        "id": "ErOC_sJdbEMe"
      },
      "execution_count": 16,
      "outputs": []
    },
    {
      "cell_type": "markdown",
      "source": [
        "***Modify the number of units in the LSTM layers and consider adding more layers or changing the dropout rate to see how these adjustments affect the model's performance***\n",
        "\n",
        "Experiment with 'units'\n",
        "\n",
        "Experiment with dropout for regularization\n",
        "\n",
        "Add another LSTM layer\n",
        "\n"
      ],
      "metadata": {
        "id": "kOWw9rEX5awq"
      }
    },
    {
      "cell_type": "code",
      "source": [
        "# 3. Define the LSTM Model\n",
        "model = Sequential()\n",
        "\n",
        "# --- Students: Modify the number of LSTM layers and units to experiment with model complexity ---\n",
        "model.add(LSTM(units=40, return_sequences=True, input_shape=(time_step, 1)))  # <-- Experiment with 'units'\n",
        "model.add(Dropout(0.3))  # Experiment with dropout for regularization\n",
        "\n",
        "model.add(LSTM(units=60, return_sequences=False))  # <-- Add another LSTM layer\n",
        "model.add(Dropout(0.4))\n",
        "\n",
        "model.add(Dense(1))\n",
        "\n",
        "model.compile(optimizer='adam', loss='mean_absolute_error')"
      ],
      "metadata": {
        "colab": {
          "base_uri": "https://localhost:8080/"
        },
        "id": "58PjSxibbKWV",
        "outputId": "94bc8c4f-1076-40f6-a064-06f574474629"
      },
      "execution_count": 17,
      "outputs": [
        {
          "output_type": "stream",
          "name": "stderr",
          "text": [
            "/usr/local/lib/python3.12/dist-packages/keras/src/layers/rnn/rnn.py:199: UserWarning: Do not pass an `input_shape`/`input_dim` argument to a layer. When using Sequential models, prefer using an `Input(shape)` object as the first layer in the model instead.\n",
            "  super().__init__(**kwargs)\n"
          ]
        }
      ]
    },
    {
      "cell_type": "markdown",
      "source": [
        "***Adjust the epochs and batch_size during the training phase to optimize the model’s learning process and its ability to generalize.***"
      ],
      "metadata": {
        "id": "GxH3rJwb6EIp"
      }
    },
    {
      "cell_type": "code",
      "source": [
        "# 4. Train the Model\n",
        "\n",
        "model.fit(X_train, y_train, epochs=30, batch_size=42, verbose=1)  # <-- Experiment with 'epochs' and 'batch_size'"
      ],
      "metadata": {
        "colab": {
          "base_uri": "https://localhost:8080/"
        },
        "id": "kAVwfLj7bTcL",
        "outputId": "0dd2aed6-1c60-4c65-f9c1-7d1525873601"
      },
      "execution_count": 18,
      "outputs": [
        {
          "output_type": "stream",
          "name": "stdout",
          "text": [
            "Epoch 1/30\n",
            "\u001b[1m4/4\u001b[0m \u001b[32m━━━━━━━━━━━━━━━━━━━━\u001b[0m\u001b[37m\u001b[0m \u001b[1m4s\u001b[0m 64ms/step - loss: 0.5419\n",
            "Epoch 2/30\n",
            "\u001b[1m4/4\u001b[0m \u001b[32m━━━━━━━━━━━━━━━━━━━━\u001b[0m\u001b[37m\u001b[0m \u001b[1m0s\u001b[0m 74ms/step - loss: 0.2976\n",
            "Epoch 3/30\n",
            "\u001b[1m4/4\u001b[0m \u001b[32m━━━━━━━━━━━━━━━━━━━━\u001b[0m\u001b[37m\u001b[0m \u001b[1m0s\u001b[0m 65ms/step - loss: 0.1577\n",
            "Epoch 4/30\n",
            "\u001b[1m4/4\u001b[0m \u001b[32m━━━━━━━━━━━━━━━━━━━━\u001b[0m\u001b[37m\u001b[0m \u001b[1m0s\u001b[0m 56ms/step - loss: 0.1300\n",
            "Epoch 5/30\n",
            "\u001b[1m4/4\u001b[0m \u001b[32m━━━━━━━━━━━━━━━━━━━━\u001b[0m\u001b[37m\u001b[0m \u001b[1m0s\u001b[0m 57ms/step - loss: 0.1446\n",
            "Epoch 6/30\n",
            "\u001b[1m4/4\u001b[0m \u001b[32m━━━━━━━━━━━━━━━━━━━━\u001b[0m\u001b[37m\u001b[0m \u001b[1m0s\u001b[0m 68ms/step - loss: 0.1447\n",
            "Epoch 7/30\n",
            "\u001b[1m4/4\u001b[0m \u001b[32m━━━━━━━━━━━━━━━━━━━━\u001b[0m\u001b[37m\u001b[0m \u001b[1m0s\u001b[0m 61ms/step - loss: 0.1109\n",
            "Epoch 8/30\n",
            "\u001b[1m4/4\u001b[0m \u001b[32m━━━━━━━━━━━━━━━━━━━━\u001b[0m\u001b[37m\u001b[0m \u001b[1m0s\u001b[0m 59ms/step - loss: 0.1129\n",
            "Epoch 9/30\n",
            "\u001b[1m4/4\u001b[0m \u001b[32m━━━━━━━━━━━━━━━━━━━━\u001b[0m\u001b[37m\u001b[0m \u001b[1m0s\u001b[0m 60ms/step - loss: 0.1137\n",
            "Epoch 10/30\n",
            "\u001b[1m4/4\u001b[0m \u001b[32m━━━━━━━━━━━━━━━━━━━━\u001b[0m\u001b[37m\u001b[0m \u001b[1m0s\u001b[0m 57ms/step - loss: 0.1139\n",
            "Epoch 11/30\n",
            "\u001b[1m4/4\u001b[0m \u001b[32m━━━━━━━━━━━━━━━━━━━━\u001b[0m\u001b[37m\u001b[0m \u001b[1m0s\u001b[0m 67ms/step - loss: 0.1210\n",
            "Epoch 12/30\n",
            "\u001b[1m4/4\u001b[0m \u001b[32m━━━━━━━━━━━━━━━━━━━━\u001b[0m\u001b[37m\u001b[0m \u001b[1m0s\u001b[0m 65ms/step - loss: 0.1121\n",
            "Epoch 13/30\n",
            "\u001b[1m4/4\u001b[0m \u001b[32m━━━━━━━━━━━━━━━━━━━━\u001b[0m\u001b[37m\u001b[0m \u001b[1m0s\u001b[0m 112ms/step - loss: 0.1253\n",
            "Epoch 14/30\n",
            "\u001b[1m4/4\u001b[0m \u001b[32m━━━━━━━━━━━━━━━━━━━━\u001b[0m\u001b[37m\u001b[0m \u001b[1m1s\u001b[0m 110ms/step - loss: 0.1095\n",
            "Epoch 15/30\n",
            "\u001b[1m4/4\u001b[0m \u001b[32m━━━━━━━━━━━━━━━━━━━━\u001b[0m\u001b[37m\u001b[0m \u001b[1m1s\u001b[0m 111ms/step - loss: 0.1124\n",
            "Epoch 16/30\n",
            "\u001b[1m4/4\u001b[0m \u001b[32m━━━━━━━━━━━━━━━━━━━━\u001b[0m\u001b[37m\u001b[0m \u001b[1m0s\u001b[0m 105ms/step - loss: 0.1092\n",
            "Epoch 17/30\n",
            "\u001b[1m4/4\u001b[0m \u001b[32m━━━━━━━━━━━━━━━━━━━━\u001b[0m\u001b[37m\u001b[0m \u001b[1m1s\u001b[0m 98ms/step - loss: 0.1052\n",
            "Epoch 18/30\n",
            "\u001b[1m4/4\u001b[0m \u001b[32m━━━━━━━━━━━━━━━━━━━━\u001b[0m\u001b[37m\u001b[0m \u001b[1m1s\u001b[0m 107ms/step - loss: 0.0940\n",
            "Epoch 19/30\n",
            "\u001b[1m4/4\u001b[0m \u001b[32m━━━━━━━━━━━━━━━━━━━━\u001b[0m\u001b[37m\u001b[0m \u001b[1m1s\u001b[0m 100ms/step - loss: 0.1112\n",
            "Epoch 20/30\n",
            "\u001b[1m4/4\u001b[0m \u001b[32m━━━━━━━━━━━━━━━━━━━━\u001b[0m\u001b[37m\u001b[0m \u001b[1m0s\u001b[0m 68ms/step - loss: 0.1041\n",
            "Epoch 21/30\n",
            "\u001b[1m4/4\u001b[0m \u001b[32m━━━━━━━━━━━━━━━━━━━━\u001b[0m\u001b[37m\u001b[0m \u001b[1m0s\u001b[0m 72ms/step - loss: 0.1103\n",
            "Epoch 22/30\n",
            "\u001b[1m4/4\u001b[0m \u001b[32m━━━━━━━━━━━━━━━━━━━━\u001b[0m\u001b[37m\u001b[0m \u001b[1m0s\u001b[0m 60ms/step - loss: 0.0973\n",
            "Epoch 23/30\n",
            "\u001b[1m4/4\u001b[0m \u001b[32m━━━━━━━━━━━━━━━━━━━━\u001b[0m\u001b[37m\u001b[0m \u001b[1m0s\u001b[0m 62ms/step - loss: 0.1123\n",
            "Epoch 24/30\n",
            "\u001b[1m4/4\u001b[0m \u001b[32m━━━━━━━━━━━━━━━━━━━━\u001b[0m\u001b[37m\u001b[0m \u001b[1m0s\u001b[0m 59ms/step - loss: 0.0975\n",
            "Epoch 25/30\n",
            "\u001b[1m4/4\u001b[0m \u001b[32m━━━━━━━━━━━━━━━━━━━━\u001b[0m\u001b[37m\u001b[0m \u001b[1m0s\u001b[0m 58ms/step - loss: 0.0977\n",
            "Epoch 26/30\n",
            "\u001b[1m4/4\u001b[0m \u001b[32m━━━━━━━━━━━━━━━━━━━━\u001b[0m\u001b[37m\u001b[0m \u001b[1m0s\u001b[0m 66ms/step - loss: 0.1027\n",
            "Epoch 27/30\n",
            "\u001b[1m4/4\u001b[0m \u001b[32m━━━━━━━━━━━━━━━━━━━━\u001b[0m\u001b[37m\u001b[0m \u001b[1m0s\u001b[0m 71ms/step - loss: 0.0924\n",
            "Epoch 28/30\n",
            "\u001b[1m4/4\u001b[0m \u001b[32m━━━━━━━━━━━━━━━━━━━━\u001b[0m\u001b[37m\u001b[0m \u001b[1m0s\u001b[0m 78ms/step - loss: 0.1020\n",
            "Epoch 29/30\n",
            "\u001b[1m4/4\u001b[0m \u001b[32m━━━━━━━━━━━━━━━━━━━━\u001b[0m\u001b[37m\u001b[0m \u001b[1m0s\u001b[0m 62ms/step - loss: 0.0954\n",
            "Epoch 30/30\n",
            "\u001b[1m4/4\u001b[0m \u001b[32m━━━━━━━━━━━━━━━━━━━━\u001b[0m\u001b[37m\u001b[0m \u001b[1m0s\u001b[0m 64ms/step - loss: 0.0932\n"
          ]
        },
        {
          "output_type": "execute_result",
          "data": {
            "text/plain": [
              "<keras.src.callbacks.history.History at 0x78f42d966810>"
            ]
          },
          "metadata": {},
          "execution_count": 18
        }
      ]
    },
    {
      "cell_type": "code",
      "source": [
        "# 5. Predict on the Test Data\n",
        "y_pred = model.predict(X_test)"
      ],
      "metadata": {
        "colab": {
          "base_uri": "https://localhost:8080/"
        },
        "id": "n4BCFz26bYVn",
        "outputId": "deb31da6-9a14-4a77-abf0-6f3280fdc8fe"
      },
      "execution_count": 19,
      "outputs": [
        {
          "output_type": "stream",
          "name": "stdout",
          "text": [
            "\u001b[1m2/2\u001b[0m \u001b[32m━━━━━━━━━━━━━━━━━━━━\u001b[0m\u001b[37m\u001b[0m \u001b[1m1s\u001b[0m 334ms/step\n"
          ]
        }
      ]
    },
    {
      "cell_type": "code",
      "source": [
        "# Inverse transform to get the original scale\n",
        "y_pred = scaler.inverse_transform(y_pred.reshape(-1, 1)).reshape(-1)\n",
        "y_test = scaler.inverse_transform(y_test.reshape(-1, 1)).reshape(-1)"
      ],
      "metadata": {
        "id": "m434kbHBbcob"
      },
      "execution_count": 20,
      "outputs": []
    },
    {
      "cell_type": "markdown",
      "source": [
        "***Analyze the plot to evaluate the model performance. Consider modifying the model architecture or training parameters to improve accuracy***"
      ],
      "metadata": {
        "id": "gLyRbsMZ6Q_F"
      }
    },
    {
      "cell_type": "code",
      "source": [
        "# 6. Plot the Results\n",
        "plt.figure(figsize=(12, 6))\n",
        "plt.plot(y_test, label='Actual')\n",
        "plt.plot(y_pred, label='Predicted')\n",
        "plt.xlabel('Time Steps')\n",
        "plt.ylabel('Stock Price')\n",
        "plt.title('LSTM Stock Price Prediction')\n",
        "plt.legend()\n",
        "plt.show()\n",
        "\n"
      ],
      "metadata": {
        "colab": {
          "base_uri": "https://localhost:8080/",
          "height": 349
        },
        "id": "1maQ_edkbfqc",
        "outputId": "065482d7-b65b-41b3-c616-3e949ba0e3e1"
      },
      "execution_count": 21,
      "outputs": [
        {
          "output_type": "display_data",
          "data": {
            "text/plain": [
              "<Figure size 1200x600 with 1 Axes>"
            ],
            "image/png": "[encoded data removed]"
          },
          "metadata": {}
        }
      ]
    },
    {
      "cell_type": "markdown",
      "source": [
        "***Answer the following questions. (You can type answers in a text cell)***\n",
        "1.\tWhat is the purpose of normalizing the 'Close' prices before feeding them into the LSTM model?\n",
        "2.\tWhat is the purpose of the Dropout layer in the LSTM model?\n",
        "3.\tIn the plot showing actual vs predicted stock prices, what does it indicate if the predicted line closely follows the actual line?\n"
      ],
      "metadata": {
        "id": "PGvJoaLY6eWe"
      }
    },
    {
      "cell_type": "markdown",
      "source": [
        "1.improves training efficiency, prevents large values from dominating, and helps the LSTM converge faster and more accurately.\n",
        "\n",
        "2.The Dropout layer reduces overfitting by randomly ignoring a fraction of neurons during training, ensuring the model learns more general and robust patterns.\n",
        "\n",
        "3.It indicates that the model has effectively learned the stock price patterns and is making accurate predictions that generalize well to unseen data."
      ],
      "metadata": {
        "id": "hi97Wnb7HRAr"
      }
    }
  ]
}